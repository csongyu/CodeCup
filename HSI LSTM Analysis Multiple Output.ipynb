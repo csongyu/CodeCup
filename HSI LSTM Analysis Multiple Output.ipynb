{
 "cells": [
  {
   "cell_type": "code",
   "execution_count": null,
   "id": "b9743197-d462-4cf7-adb2-67f49facbcdd",
   "metadata": {},
   "outputs": [],
   "source": [
    "import pandas as pd\n",
    "import matplotlib.pyplot as plt\n",
    "import numpy as np\n",
    "from sklearn.preprocessing import MinMaxScaler\n",
    "from sklearn.model_selection import RandomizedSearchCV\n",
    "from sklearn.metrics import mean_squared_error, mean_absolute_error\n",
    "from tensorflow.keras.models import Sequential\n",
    "from tensorflow.keras.layers import Input, LSTM, Dense, Dropout\n",
    "from tensorflow.keras.optimizers import Adam\n",
    "from scikeras.wrappers import KerasRegressor"
   ]
  },
  {
   "cell_type": "code",
   "execution_count": null,
   "id": "8d60a18a-4c6d-4896-b6cd-267c771a4852",
   "metadata": {},
   "outputs": [],
   "source": [
    "df = pd.read_csv(\"./data/_output.csv\")\n",
    "scaler = MinMaxScaler(feature_range=(0, 1))\n",
    "data = scaler.fit_transform(df[[\"Close\"]])"
   ]
  },
  {
   "cell_type": "code",
   "execution_count": null,
   "id": "34db00ae-8a2f-433d-bd42-58aa1ef58c1e",
   "metadata": {},
   "outputs": [],
   "source": [
    "train_size = int(len(data) * 0.75)\n",
    "train_set = data[:train_size]\n",
    "test_set = data[train_size:]\n",
    "\n",
    "look_back = 150\n",
    "n_steps = 5\n",
    "x_train, y_train = [], []\n",
    "for i in range(len(train_set) - look_back - n_steps):\n",
    "    x_train.append(train_set[i : (i + look_back), 0])\n",
    "    y_train.append(train_set[i + look_back : i + look_back + n_steps, 0])\n",
    "x_train = np.array(x_train)\n",
    "y_train = np.array(y_train)\n",
    "\n",
    "x_test, y_test = [], []\n",
    "for i in range(len(test_set) - look_back - n_steps):\n",
    "    x_test.append(test_set[i : (i + look_back), 0])\n",
    "    y_test.append(test_set[i + look_back : i + look_back + n_steps, 0])\n",
    "x_test = np.array(x_test)\n",
    "y_test = np.array(y_test)"
   ]
  },
  {
   "cell_type": "code",
   "execution_count": null,
   "id": "a825ba5b-5593-4192-9149-88fd1a822285",
   "metadata": {},
   "outputs": [],
   "source": [
    "x_train = np.reshape(x_train, (x_train.shape[0], x_train.shape[1], 1))\n",
    "x_test = np.reshape(x_test, (x_test.shape[0], x_test.shape[1], 1))"
   ]
  },
  {
   "cell_type": "code",
   "execution_count": null,
   "id": "d3e57477-1d92-492c-b9ad-9c7156ad8e01",
   "metadata": {},
   "outputs": [],
   "source": [
    "def create_model(units, dropout, learning_rate):\n",
    "    model = Sequential()\n",
    "    model.add(Input(shape=(look_back, 1)))\n",
    "    model.add(LSTM(units, return_sequences=True))\n",
    "    model.add(Dropout(dropout))\n",
    "    model.add(LSTM(units))\n",
    "    model.add(Dropout(dropout))\n",
    "    # model.add(Dense(n_steps * 2))\n",
    "    model.add(Dense(n_steps))\n",
    "    model.compile(optimizer=Adam(learning_rate=learning_rate), loss=\"mean_squared_error\")\n",
    "    return model\n",
    "\n",
    "\n",
    "# model = KerasRegressor(model=create_model, units=32, dropout=0.05, learning_rate=0.1, verbose=0)\n",
    "# param_grid = {\n",
    "#     \"units\": [32, 64, 128],\n",
    "#     \"dropout\": [0.05],\n",
    "#     \"learning_rate\": [1e-3],\n",
    "#     \"batch_size\": [16, 32, 64],\n",
    "#     \"epochs\": [500]\n",
    "# }\n",
    "# random_search = RandomizedSearchCV(model, param_grid, n_iter=8, cv=3, n_jobs=-1, verbose=0)\n",
    "# random_search.fit(x_train, y_train)\n",
    "# print(\"random_search.best_params_: \", random_search.best_params_)\n",
    "# print(\"random_search.best_score_: \", random_search.best_score_)"
   ]
  },
  {
   "cell_type": "code",
   "execution_count": null,
   "id": "5aafcfc9-fa86-423a-98e3-6ea65aaefd0f",
   "metadata": {},
   "outputs": [],
   "source": [
    "# best_params = random_search.best_params_\n",
    "best_params = {\"units\": 64, \"learning_rate\": 0.001, \"epochs\": 500, \"dropout\": 0.05, \"batch_size\": 32}"
   ]
  },
  {
   "cell_type": "code",
   "execution_count": null,
   "id": "5d43d1e7-d793-4916-a042-03af280f443c",
   "metadata": {},
   "outputs": [],
   "source": [
    "best_model = create_model(units=best_params[\"units\"], dropout=best_params[\"dropout\"], learning_rate=best_params[\"learning_rate\"])\n",
    "best_model.fit(x_train, y_train, batch_size=best_params[\"batch_size\"], epochs=best_params[\"epochs\"])"
   ]
  },
  {
   "cell_type": "code",
   "execution_count": null,
   "id": "d8a9368c-f3e7-4572-9179-524859597c14",
   "metadata": {},
   "outputs": [],
   "source": [
    "y_pred = scaler.inverse_transform(best_model.predict(x_test))\n",
    "y_test = scaler.inverse_transform(y_test)\n",
    "print(\"MSE score: \", mean_squared_error(y_test, y_pred))\n",
    "print(\"RMSE score: \", np.sqrt(mean_squared_error(y_test, y_pred)))\n",
    "print(\"MAE score: \", mean_absolute_error(y_test, y_pred))"
   ]
  },
  {
   "cell_type": "code",
   "execution_count": null,
   "id": "e898967d-09c6-4a25-96fe-2cdd5fb7a1d7",
   "metadata": {},
   "outputs": [],
   "source": [
    "best_model.save(\"./HSI_LSTM_Analysis_Multiple_Output.keras\")"
   ]
  },
  {
   "cell_type": "code",
   "execution_count": null,
   "id": "b18aa92a-3e5f-4b2c-bac9-ba07ea8981c0",
   "metadata": {},
   "outputs": [],
   "source": []
  }
 ],
 "metadata": {
  "kernelspec": {
   "display_name": "Python 3 (ipykernel)",
   "language": "python",
   "name": "python3"
  },
  "language_info": {
   "codemirror_mode": {
    "name": "ipython",
    "version": 3
   },
   "file_extension": ".py",
   "mimetype": "text/x-python",
   "name": "python",
   "nbconvert_exporter": "python",
   "pygments_lexer": "ipython3",
   "version": "3.11.8"
  }
 },
 "nbformat": 4,
 "nbformat_minor": 5
}
