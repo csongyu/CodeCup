{
 "cells": [
  {
   "cell_type": "code",
   "execution_count": null,
   "id": "24ca9342-cb4b-4b70-8198-f6ee355d415c",
   "metadata": {},
   "outputs": [],
   "source": [
    "import pandas as pd\n",
    "import matplotlib.pyplot as plt\n",
    "from ta import add_all_ta_features\n",
    "from ta.utils import dropna\n",
    "from sklearn.model_selection import train_test_split, GridSearchCV\n",
    "from sklearn.ensemble import RandomForestClassifier\n",
    "from sklearn.metrics import classification_report\n",
    "import joblib"
   ]
  },
  {
   "cell_type": "code",
   "execution_count": null,
   "id": "c1e8519c-2ad1-494b-83da-28aa623c3554",
   "metadata": {},
   "outputs": [],
   "source": [
    "data = pd.read_csv(\".csv\")\n",
    "plt.plot(data[\"Close\"])"
   ]
  },
  {
   "cell_type": "code",
   "execution_count": null,
   "id": "66b22402-910f-445d-9acd-c20161cc9ab5",
   "metadata": {},
   "outputs": [],
   "source": [
    "data = data.assign(Predict=False)\n",
    "top = data.nlargest(int(len(data) * 0.05), \"Close\")\n",
    "data.loc[data.index.isin(top.index), \"Predict\"] = True\n",
    "data[data[\"Predict\"]]"
   ]
  },
  {
   "cell_type": "code",
   "execution_count": null,
   "id": "963dc9d0-2744-4b34-9e16-29f6d964be4b",
   "metadata": {},
   "outputs": [],
   "source": [
    "data = dropna(data)\n",
    "data = add_all_ta_features(\n",
    "    data, open=\"Open\", high=\"High\", low=\"Low\", close=\"Close\", volume=\"Volume\", fillna=True\n",
    ")\n",
    "\n",
    "del data[\"Timestamp\"]\n",
    "del data[\"Open\"]\n",
    "del data[\"High\"]\n",
    "del data[\"Low\"]\n",
    "del data[\"Close\"]\n",
    "del data[\"Volume\"]\n",
    "del data[\"Percent\"]\n",
    "data"
   ]
  },
  {
   "cell_type": "code",
   "execution_count": null,
   "id": "0646d6be-b0f2-46ad-9a58-ab5202f68b14",
   "metadata": {},
   "outputs": [],
   "source": [
    "x = data[[col for col in data.columns if col != \"Predict\"]]\n",
    "y = data[\"Predict\"]\n",
    "x_train, x_test, y_train, y_test = train_test_split(\n",
    "    x, y, train_size=0.75, random_state=10\n",
    ")\n",
    "\n",
    "model = RandomForestClassifier(class_weight=\"balanced\", n_jobs=-1, random_state=10)\n",
    "param_grid = {\n",
    "    \"n_estimators\": [64, 128, 256],\n",
    "    \"max_depth\": [8, 16, 32],\n",
    "}\n",
    "estimator = GridSearchCV(model, param_grid=param_grid, cv=5, n_jobs=-1)\n",
    "estimator.fit(x_train, y_train)\n",
    "print(\"estimator.cv_results_: \", estimator.cv_results_)\n",
    "print(\"estimator.best_estimator_: \", estimator.best_estimator_)\n",
    "print(\"estimator.best_params_: \", estimator.best_params_)\n",
    "\n",
    "y_pred = estimator.best_estimator_.predict(x_test)\n",
    "report = classification_report(y_test, y_pred)\n",
    "print(report)"
   ]
  },
  {
   "cell_type": "code",
   "execution_count": null,
   "id": "5bd5a43b-f847-469e-81f1-623557c6e467",
   "metadata": {},
   "outputs": [],
   "source": [
    "joblib.dump(estimator.best_estimator_, \"HSI_random_forest_analysis.joblib\")"
   ]
  },
  {
   "cell_type": "code",
   "execution_count": null,
   "id": "ac5ee10b-355a-49fc-b50c-04e258bcc4fb",
   "metadata": {},
   "outputs": [],
   "source": []
  }
 ],
 "metadata": {
  "kernelspec": {
   "display_name": "Python 3 (ipykernel)",
   "language": "python",
   "name": "python3"
  },
  "language_info": {
   "codemirror_mode": {
    "name": "ipython",
    "version": 3
   },
   "file_extension": ".py",
   "mimetype": "text/x-python",
   "name": "python",
   "nbconvert_exporter": "python",
   "pygments_lexer": "ipython3",
   "version": "3.11.8"
  }
 },
 "nbformat": 4,
 "nbformat_minor": 5
}
