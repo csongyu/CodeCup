{
 "cells": [
  {
   "cell_type": "code",
   "execution_count": null,
   "id": "24ca9342-cb4b-4b70-8198-f6ee355d415c",
   "metadata": {},
   "outputs": [],
   "source": [
    "import numpy as np\n",
    "import pandas as pd\n",
    "import matplotlib.pyplot as plt\n",
    "import talib\n",
    "from sklearn.model_selection import train_test_split\n",
    "from sklearn.ensemble import RandomForestClassifier\n",
    "from sklearn.metrics import classification_report"
   ]
  },
  {
   "cell_type": "code",
   "execution_count": null,
   "id": "17de6410-f868-409f-8296-09ef7e90c613",
   "metadata": {},
   "outputs": [],
   "source": [
    "input_csv_file = \".csv\"\n",
    "output_csv_file = \"_output.csv\""
   ]
  },
  {
   "cell_type": "code",
   "execution_count": null,
   "id": "c1e8519c-2ad1-494b-83da-28aa623c3554",
   "metadata": {},
   "outputs": [],
   "source": [
    "df = pd.read_csv(input_csv_file)\n",
    "df[\"open\"] = df[\"current\"] - df[\"change\"]"
   ]
  },
  {
   "cell_type": "code",
   "execution_count": null,
   "id": "4be5ded9-8072-4284-b26a-b19d2945f9a8",
   "metadata": {},
   "outputs": [],
   "source": [
    "plt.plot(df[\"current\"])"
   ]
  },
  {
   "cell_type": "code",
   "execution_count": null,
   "id": "8bc3a466-c518-4c06-8b97-6487e83c8b88",
   "metadata": {},
   "outputs": [],
   "source": [
    "df[\"time\"] = pd.to_datetime(df[\"time\"], format=\"%H:%M:%S\").dt.time\n",
    "start_time_1 = pd.Timestamp(\"09:30:00\").time()\n",
    "end_time_1 = pd.Timestamp(\"12:00:00\").time()\n",
    "start_time_2 = pd.Timestamp(\"13:00:00\").time()\n",
    "end_time_2 = pd.Timestamp(\"16:00:00\").time()\n",
    "filter_1 = (df[\"time\"] >= start_time_1) & (df[\"time\"] <= end_time_1)\n",
    "filter_2 = (df[\"time\"] >= start_time_2) & (df[\"time\"] <= end_time_2)\n",
    "filter_df = df[filter_1 | filter_2]\n",
    "filter_df"
   ]
  },
  {
   "cell_type": "code",
   "execution_count": null,
   "id": "a9636ab4-9cce-474f-a2c9-75846da028e7",
   "metadata": {},
   "outputs": [],
   "source": [
    "from datetime import datetime, timedelta\n",
    "\n",
    "start_time = datetime.combine(datetime.today().date(), datetime.min.time())\n",
    "# 1 week (9:30 - 12:00 & 13:00 - 16:00, 330 * 5 = 1650 minutes) => 5 minutes\n",
    "# 1650 / 5 = 330\n",
    "# send a request every 2 seconds (11 * 30 = 330) => send a request every 11 minutes\n",
    "interval = timedelta(minutes=10)\n",
    "time_set = set()\n",
    "end_time = start_time + timedelta(days=1)\n",
    "current_time = start_time\n",
    "while current_time < end_time:\n",
    "    time_set.add(current_time.time())\n",
    "    current_time += interval\n",
    "\n",
    "filter_df = filter_df[filter_df[\"time\"].isin(time_set)]\n",
    "filter_df"
   ]
  },
  {
   "cell_type": "code",
   "execution_count": null,
   "id": "3f79eee4-f393-4dc3-be05-43f6b14767bc",
   "metadata": {},
   "outputs": [],
   "source": [
    "del filter_df[\"date\"]\n",
    "del filter_df[\"time\"]\n",
    "del filter_df[\"status\"]\n",
    "del filter_df[\"change\"]\n",
    "data = filter_df.rename(\n",
    "    columns={\n",
    "        \"current\": \"Close\",\n",
    "        \"turnover\": \"Volume\",\n",
    "        \"high\": \"High\",\n",
    "        \"low\": \"Low\",\n",
    "        \"percent\": \"Percent\",\n",
    "        \"open\": \"Open\",\n",
    "    }\n",
    ")\n",
    "data = data.reindex(columns=[\"Open\", \"High\", \"Low\", \"Close\", \"Volume\", \"Percent\"])\n",
    "data"
   ]
  },
  {
   "cell_type": "code",
   "execution_count": null,
   "id": "7afae499-c3a0-4b6f-a1ae-aad91ee6436e",
   "metadata": {},
   "outputs": [],
   "source": [
    "data.to_csv(output_csv_file, index=False)"
   ]
  },
  {
   "cell_type": "code",
   "execution_count": null,
   "id": "66b22402-910f-445d-9acd-c20161cc9ab5",
   "metadata": {},
   "outputs": [],
   "source": [
    "data = data.assign(Predict=False)\n",
    "top = data.nlargest(8, \"Close\")\n",
    "data.loc[data.index.isin(top.index), \"Predict\"] = True"
   ]
  },
  {
   "cell_type": "code",
   "execution_count": null,
   "id": "963dc9d0-2744-4b34-9e16-29f6d964be4b",
   "metadata": {},
   "outputs": [],
   "source": [
    "data[\"RSI\"] = talib.RSI(data[\"Close\"].values, timeperiod=14)\n",
    "data[\"SLOWK\"], data[\"SLOWD\"] = talib.STOCH(\n",
    "    data[\"High\"].values,\n",
    "    data[\"Low\"].values,\n",
    "    data[\"Close\"].values,\n",
    "    fastk_period=5,\n",
    "    slowk_period=3,\n",
    "    slowk_matype=0,\n",
    "    slowd_period=3,\n",
    "    slowd_matype=0,\n",
    ")\n",
    "data[\"ATR\"] = talib.ATR(\n",
    "    data[\"High\"].values, data[\"Low\"].values, data[\"Close\"].values, timeperiod=14\n",
    ")\n",
    "data[\"MOM\"] = talib.MOM(data[\"Close\"].values, timeperiod=10)\n",
    "data[\"MFI\"] = talib.MFI(\n",
    "    data[\"High\"].values,\n",
    "    data[\"Low\"].values,\n",
    "    data[\"Close\"].values,\n",
    "    data[\"Volume\"].values.astype(np.float64),\n",
    "    timeperiod=14,\n",
    ")\n",
    "data[\"ROC\"] = talib.ROC(data[\"Close\"].values, timeperiod=10)\n",
    "data[\"OBV\"] = talib.OBV(data[\"Close\"].values, data[\"Volume\"].values.astype(np.float64))\n",
    "data[\"CCI\"] = talib.CCI(\n",
    "    data[\"High\"].values, data[\"Low\"].values, data[\"Close\"].values, timeperiod=14\n",
    ")\n",
    "data[\"TRIX\"] = talib.TRIX(data[\"Close\"].values, timeperiod=30)\n",
    "data[\"EMA\"] = talib.EMA(data[\"Close\"].values, timeperiod=30)\n",
    "\n",
    "macd, macdsignal, macdhist = talib.MACD(\n",
    "    data[\"Close\"].values, fastperiod=12, slowperiod=26, signalperiod=9\n",
    ")\n",
    "data[\"MACD\"] = macd\n",
    "data[\"MA\"] = talib.MA(data[\"Close\"].values, timeperiod=30, matype=0)\n",
    "\n",
    "del data[\"Open\"]\n",
    "del data[\"High\"]\n",
    "del data[\"Low\"]\n",
    "del data[\"Close\"]\n",
    "del data[\"Volume\"]\n",
    "del data[\"Percent\"]\n",
    "data"
   ]
  },
  {
   "cell_type": "code",
   "execution_count": null,
   "id": "0646d6be-b0f2-46ad-9a58-ab5202f68b14",
   "metadata": {},
   "outputs": [],
   "source": [
    "x = data[[col for col in data.columns if col != \"Predict\"]]\n",
    "y = data[\"Predict\"]\n",
    "x_train, x_test, y_train, y_test = train_test_split(\n",
    "    x, y, train_size=0.75, random_state=10\n",
    ")\n",
    "\n",
    "model = RandomForestClassifier(n_jobs=-1, n_estimators=65, random_state=10)\n",
    "model.fit(x_train, y_train)\n",
    "prediction = model.predict(x_test)\n",
    "report = classification_report(y_test, prediction)\n",
    "print(report)"
   ]
  },
  {
   "cell_type": "code",
   "execution_count": null,
   "id": "5bd5a43b-f847-469e-81f1-623557c6e467",
   "metadata": {},
   "outputs": [],
   "source": []
  }
 ],
 "metadata": {
  "kernelspec": {
   "display_name": "Python 3 (ipykernel)",
   "language": "python",
   "name": "python3"
  },
  "language_info": {
   "codemirror_mode": {
    "name": "ipython",
    "version": 3
   },
   "file_extension": ".py",
   "mimetype": "text/x-python",
   "name": "python",
   "nbconvert_exporter": "python",
   "pygments_lexer": "ipython3",
   "version": "3.9.7"
  }
 },
 "nbformat": 4,
 "nbformat_minor": 5
}
