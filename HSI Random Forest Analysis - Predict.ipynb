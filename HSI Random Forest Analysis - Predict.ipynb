{
 "cells": [
  {
   "cell_type": "code",
   "execution_count": null,
   "id": "24ca9342-cb4b-4b70-8198-f6ee355d415c",
   "metadata": {},
   "outputs": [],
   "source": [
    "import pandas as pd\n",
    "import matplotlib.pyplot as plt\n",
    "from ta import add_all_ta_features\n",
    "from ta.utils import dropna\n",
    "import joblib"
   ]
  },
  {
   "cell_type": "code",
   "execution_count": null,
   "id": "71fe0dec-b38f-430e-a1fb-cc9afee9189c",
   "metadata": {},
   "outputs": [],
   "source": [
    "### Output Csv"
   ]
  },
  {
   "cell_type": "code",
   "execution_count": null,
   "id": "c1e8519c-2ad1-494b-83da-28aa623c3554",
   "metadata": {},
   "outputs": [],
   "source": [
    "df_hist = pd.read_csv(\"./data/_output.csv\")\n",
    "df_curr = pd.read_csv(\"./data/_output.csv\")\n",
    "df = pd.concat([df_hist, df_curr], ignore_index=True)\n",
    "plt.plot(df_curr[\"Close\"])"
   ]
  },
  {
   "cell_type": "code",
   "execution_count": null,
   "id": "963dc9d0-2744-4b34-9e16-29f6d964be4b",
   "metadata": {},
   "outputs": [],
   "source": [
    "df = dropna(df)\n",
    "df = add_all_ta_features(\n",
    "    df, open=\"Open\", high=\"High\", low=\"Low\", close=\"Close\", volume=\"Volume\", fillna=True\n",
    ")\n",
    "\n",
    "df = df.drop([\"Timestamp\", \"Open\", \"High\", \"Low\", \"Close\", \"Volume\", \"Percent\"], axis=1)\n",
    "df = df.iloc[-len(df_curr):]"
   ]
  },
  {
   "cell_type": "code",
   "execution_count": null,
   "id": "c878c22d-b737-4a8c-8257-b18c0b931027",
   "metadata": {},
   "outputs": [],
   "source": [
    "model = joblib.load(\"./HSI_Random_Forest_Analysis.joblib\")\n",
    "pred = model.predict(df)\n",
    "print(pred)"
   ]
  },
  {
   "cell_type": "code",
   "execution_count": null,
   "id": "ac5ee10b-355a-49fc-b50c-04e258bcc4fb",
   "metadata": {},
   "outputs": [],
   "source": [
    "### Output like Stream"
   ]
  },
  {
   "cell_type": "code",
   "execution_count": null,
   "id": "12e52288-b17a-4496-8a6b-3fc45610783e",
   "metadata": {},
   "outputs": [],
   "source": [
    "model = joblib.load(\"./HSI_Random_Forest_Analysis.joblib\")"
   ]
  },
  {
   "cell_type": "code",
   "execution_count": null,
   "id": "aa9c5637-87ab-4aed-a03a-b491986842ef",
   "metadata": {},
   "outputs": [],
   "source": [
    "df = pd.read_csv(\"./data/_output.csv\")\n",
    "df_curr = pd.read_csv(\"./data/_output.csv\")\n",
    "pred = []\n",
    "for x in range(len(df_curr)):\n",
    "    df.loc[len(df)] = df_curr.iloc[x]\n",
    "    rows = add_all_ta_features(\n",
    "        df, open=\"Open\", high=\"High\", low=\"Low\", close=\"Close\", volume=\"Volume\", fillna=True\n",
    "    )\n",
    "    row = rows.drop([\"Timestamp\", \"Open\", \"High\", \"Low\", \"Close\", \"Volume\", \"Percent\"], axis=1)\n",
    "    row = rows.iloc[-1:]\n",
    "    pred.append(model.predict(row)[0])\n",
    "print(pred)"
   ]
  },
  {
   "cell_type": "code",
   "execution_count": null,
   "id": "b4f124ef-60c7-4a85-81f1-de48e58b193d",
   "metadata": {},
   "outputs": [],
   "source": []
  }
 ],
 "metadata": {
  "kernelspec": {
   "display_name": "Python 3 (ipykernel)",
   "language": "python",
   "name": "python3"
  },
  "language_info": {
   "codemirror_mode": {
    "name": "ipython",
    "version": 3
   },
   "file_extension": ".py",
   "mimetype": "text/x-python",
   "name": "python",
   "nbconvert_exporter": "python",
   "pygments_lexer": "ipython3",
   "version": "3.11.8"
  }
 },
 "nbformat": 4,
 "nbformat_minor": 5
}
