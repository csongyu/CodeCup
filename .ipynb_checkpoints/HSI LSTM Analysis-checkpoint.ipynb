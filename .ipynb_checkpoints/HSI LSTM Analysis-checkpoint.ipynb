{
 "cells": [
  {
   "cell_type": "code",
   "execution_count": null,
   "id": "40dabe15-5fe8-4ced-8ab9-4cdfa9115e04",
   "metadata": {},
   "outputs": [],
   "source": [
    "import pandas as pd\n",
    "import matplotlib.pyplot as plt\n",
    "import numpy as np\n",
    "import math\n",
    "import tensorflow as tf\n",
    "from keras.models import Sequential\n",
    "from keras.layers import LSTM, Dense\n",
    "from sklearn.model_selection import RandomizedSearchCV\n",
    "from scikeras.wrappers import KerasClassifier"
   ]
  },
  {
   "cell_type": "code",
   "execution_count": null,
   "id": "158a6038-6b80-49c8-bd2a-f7ee3883acea",
   "metadata": {},
   "outputs": [],
   "source": [
    "data = pd.read_csv(\".csv\")\n",
    "data"
   ]
  },
  {
   "cell_type": "code",
   "execution_count": null,
   "id": "e0bab200-de74-4373-8c27-a6e078a54f1a",
   "metadata": {},
   "outputs": [],
   "source": [
    "train_size = int(len(data) * 0.75)\n",
    "train_set = data[:train_size, :]\n",
    "test_set = data[train_size:, :]\n",
    "\n",
    "look_back = 150\n",
    "x_train, y_train = [], []\n",
    "for i in range(len(train_set) - look_back):\n",
    "    x_train.append(train_set[i : (i + look_back), 0])\n",
    "    y_train.append(train_set[i + look_back, 0])\n",
    "\n",
    "x_test, y_test = [], []\n",
    "for i in range(len(test_set) - look_back):\n",
    "    x_test.append(test_set[i : (i + look_back), 0])\n",
    "    y_test.append(test_set[i + look_back, 0])"
   ]
  },
  {
   "cell_type": "code",
   "execution_count": null,
   "id": "c54f1ab0-08be-40c9-bff4-9c064f1941bf",
   "metadata": {},
   "outputs": [],
   "source": [
    "x_train = np.reshape(x_train, (x_train.shape[0], 1, x_train.shape[1]))\n",
    "x_test = np.reshape(x_test, (x_test.shape[0], 1, x_test.shape[1]))"
   ]
  },
  {
   "cell_type": "code",
   "execution_count": null,
   "id": "5756656a-7a3b-4722-ab74-f57d9a540de9",
   "metadata": {},
   "outputs": [],
   "source": [
    "def create_model(units=16, dropout=0.1, optimizer=\"adam\"):\n",
    "    model = Sequential()\n",
    "    model.add(LSTM(units, input_shape=(look_back, 1)))\n",
    "    model.add(Dense(1))\n",
    "    model.compile(loss=\"mean_squared_error\", optimizer=optimizer)\n",
    "    return model\n",
    "\n",
    "\n",
    "param_dist = {\n",
    "    \"units\": [16, 32, 64, 128],\n",
    "    \"dropout\": [0.1, 0.2, 0.3],\n",
    "    \"optimizer\": [\"adam\", \"rmsprop\"],\n",
    "    \"batch_size\": [8, 16, 32],\n",
    "    \"epochs\": [10, 30, 50],\n",
    "}\n",
    "model = KerasClassifier(build_fn=create_model)\n",
    "random_search = RandomizedSearchCV(model, param_distributions=param_dist, n_jobs=-1)\n",
    "random_search.fit(x_train, y_train)\n",
    "print(\"random_search.best_params_: \", random_search.best_params_)\n",
    "print(\"random_search.best_score_: \", random_search.best_score_)"
   ]
  },
  {
   "cell_type": "code",
   "execution_count": null,
   "id": "e06982c2-717d-4f17-a501-38a6c3a54f05",
   "metadata": {},
   "outputs": [],
   "source": [
    "y_pred = model.predict(x_test)\n",
    "print(\"MSE score: \", mean_squared_error(y_test[0], y_pred[:, 0]))\n",
    "print(\"RMSE score: \", math.sqrt(mean_squared_error(y_test[0], y_pred[:, 0])))\n",
    "print(\"MAE score: \", mean_absolute_error(y_test[0], y_pred[:, 0]))"
   ]
  },
  {
   "cell_type": "code",
   "execution_count": null,
   "id": "a0eb441f-ac1f-409f-b906-f02c2e0c256c",
   "metadata": {},
   "outputs": [],
   "source": []
  }
 ],
 "metadata": {
  "kernelspec": {
   "display_name": "Python 3 (ipykernel)",
   "language": "python",
   "name": "python3"
  },
  "language_info": {
   "codemirror_mode": {
    "name": "ipython",
    "version": 3
   },
   "file_extension": ".py",
   "mimetype": "text/x-python",
   "name": "python",
   "nbconvert_exporter": "python",
   "pygments_lexer": "ipython3",
   "version": "3.11.8"
  }
 },
 "nbformat": 4,
 "nbformat_minor": 5
}
