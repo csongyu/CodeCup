{
 "cells": [
  {
   "cell_type": "code",
   "execution_count": null,
   "id": "b9fa3792-6f2c-4105-831c-d56715b25f59",
   "metadata": {},
   "outputs": [],
   "source": [
    "import pandas as pd\n",
    "import matplotlib.pyplot as plt\n",
    "import numpy as np\n",
    "from sklearn.preprocessing import MinMaxScaler\n",
    "from tensorflow.keras.models import load_model"
   ]
  },
  {
   "cell_type": "code",
   "execution_count": null,
   "id": "859cef6c-bbee-40bf-ab2f-f14cbb496724",
   "metadata": {},
   "outputs": [],
   "source": [
    "### Output like Stream (predict 1 price)"
   ]
  },
  {
   "cell_type": "code",
   "execution_count": null,
   "id": "c7bc0d69-627c-48de-86ee-cb6a7f315d5b",
   "metadata": {},
   "outputs": [],
   "source": [
    "model = load_model(\"./HSI_LSTM_Analysis.keras\")\n",
    "scaler = MinMaxScaler(feature_range=(0, 1))\n",
    "look_back = 150"
   ]
  },
  {
   "cell_type": "code",
   "execution_count": null,
   "id": "f8a2f392-e530-49c0-a0a4-3c9119304b27",
   "metadata": {},
   "outputs": [],
   "source": [
    "df_hist = pd.read_csv(\"./data/_output.csv\")\n",
    "data = df_hist.iloc[-look_back:]\n",
    "data_set = scaler.fit_transform(data[[\"Close\"]]).reshape(1, -1)"
   ]
  },
  {
   "cell_type": "code",
   "execution_count": null,
   "id": "d32bbdca-73fa-4df3-b07b-6dd744f212bf",
   "metadata": {},
   "outputs": [],
   "source": [
    "pred = []\n",
    "df_curr = pd.read_csv(\"./data/_output.csv\")\n",
    "for x in range(len(df_curr)):\n",
    "    row = df_curr.iloc[[x]]\n",
    "    curr = scaler.transform(row[[\"Close\"]])\n",
    "    data_set = np.concatenate((data_set, curr), axis=1)\n",
    "    data_set = np.delete(data_set, 0, axis=1)\n",
    "    data_test = np.reshape(data_set, (data_set.shape[0], data_set.shape[1], 1))\n",
    "    data_pred = scaler.inverse_transform(model.predict(data_test))\n",
    "    pred.append(data_pred[:, 0])"
   ]
  },
  {
   "cell_type": "code",
   "execution_count": null,
   "id": "20e678da-ca4d-41e1-bb61-b4913fdbb547",
   "metadata": {},
   "outputs": [],
   "source": [
    "plt.plot(df_curr[\"Close\"], label=\"actual\")\n",
    "plt.plot(pred, label=\"predict\")\n",
    "plt.legend()\n",
    "plt.show()"
   ]
  },
  {
   "cell_type": "code",
   "execution_count": null,
   "id": "e66752b4-bb77-4502-86f6-d99858718aa7",
   "metadata": {},
   "outputs": [],
   "source": [
    "### Output pre Stream (predict 10 price)"
   ]
  },
  {
   "cell_type": "code",
   "execution_count": null,
   "id": "083aa373-41d2-4059-bf5e-e64e99152c19",
   "metadata": {},
   "outputs": [],
   "source": [
    "model = load_model(\"./HSI_LSTM_Analysis_Multiple_Output.keras\")\n",
    "scaler = MinMaxScaler(feature_range=(0, 1))\n",
    "look_back = 150\n",
    "n_steps = 10"
   ]
  },
  {
   "cell_type": "code",
   "execution_count": null,
   "id": "db099441-bd4e-46ed-9382-f68d219b28aa",
   "metadata": {},
   "outputs": [],
   "source": [
    "df = pd.concat([df_hist.tail(look_back), df_curr], ignore_index=True)\n",
    "data = scaler.fit_transform(df[[\"Close\"]]).reshape(1, -1)\n",
    "data.shape"
   ]
  },
  {
   "cell_type": "code",
   "execution_count": null,
   "id": "b8234447-69c1-4bf2-9a13-1164d9c1684e",
   "metadata": {},
   "outputs": [],
   "source": [
    "pred = []\n",
    "start = 0\n",
    "end = look_back\n",
    "while end <= data.shape[1]:\n",
    "    print(\"start {}, end {}\", start, end)\n",
    "    data_set = data[:, start : end]\n",
    "    data_test = np.reshape(data_set, (data_set.shape[0], data_set.shape[1], 1))\n",
    "    data_pred = scaler.inverse_transform(model.predict(data_test))\n",
    "    pred.extend(data_pred.flatten().tolist())\n",
    "    start = start + n_steps\n",
    "    end = end + n_steps"
   ]
  },
  {
   "cell_type": "code",
   "execution_count": null,
   "id": "10dc3eb8-cadf-4f10-bf2f-3524314f4d31",
   "metadata": {},
   "outputs": [],
   "source": [
    "plt.plot(df_curr[\"Close\"], label=\"actual\")\n",
    "plt.plot(pred, label=\"predict\")\n",
    "plt.legend()\n",
    "plt.show()"
   ]
  },
  {
   "cell_type": "code",
   "execution_count": null,
   "id": "da1fdce8-b1d7-441a-a4e1-f4845618f4a7",
   "metadata": {},
   "outputs": [],
   "source": []
  }
 ],
 "metadata": {
  "kernelspec": {
   "display_name": "Python 3 (ipykernel)",
   "language": "python",
   "name": "python3"
  },
  "language_info": {
   "codemirror_mode": {
    "name": "ipython",
    "version": 3
   },
   "file_extension": ".py",
   "mimetype": "text/x-python",
   "name": "python",
   "nbconvert_exporter": "python",
   "pygments_lexer": "ipython3",
   "version": "3.11.8"
  }
 },
 "nbformat": 4,
 "nbformat_minor": 5
}
